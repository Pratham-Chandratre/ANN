{
 "cells": [
  {
   "cell_type": "code",
   "execution_count": 1,
   "id": "471384ea",
   "metadata": {},
   "outputs": [],
   "source": [
    "# How to train neual network with tensor flow and evaluation of logistic regression using tensorflow"
   ]
  },
  {
   "cell_type": "code",
   "execution_count": 1,
   "id": "f1a8b2c7",
   "metadata": {},
   "outputs": [],
   "source": [
    "import tensorflow as tf\n",
    "import numpy as np\n",
    "from sklearn.model_selection import train_test_split\n",
    "from sklearn.preprocessing import StandardScaler\n",
    "from sklearn.datasets import load_breast_cancer"
   ]
  },
  {
   "cell_type": "code",
   "execution_count": 2,
   "id": "a9795f05",
   "metadata": {},
   "outputs": [],
   "source": [
    "df = load_breast_cancer()"
   ]
  },
  {
   "cell_type": "code",
   "execution_count": 3,
   "id": "66059610",
   "metadata": {},
   "outputs": [],
   "source": [
    "X_train,X_test,y_train,y_test=train_test_split(df.data,df.target,test_size=0.20,random_state=42)"
   ]
  },
  {
   "cell_type": "code",
   "execution_count": 4,
   "id": "2d6809d7",
   "metadata": {},
   "outputs": [],
   "source": [
    "sc=StandardScaler()\n",
    "X_train=sc.fit_transform(X_train)\n",
    "X_test=sc.transform(X_test)"
   ]
  },
  {
   "cell_type": "code",
   "execution_count": 5,
   "id": "89f7999c",
   "metadata": {},
   "outputs": [],
   "source": [
    "model=tf.keras.models.Sequential([tf.keras.layers.Dense(1,activation='sigmoid',input_shape=(X_train.shape[1],))])"
   ]
  },
  {
   "cell_type": "code",
   "execution_count": 6,
   "id": "942c990e",
   "metadata": {},
   "outputs": [],
   "source": [
    "model.compile(optimizer='adam',loss='binary_crossentropy',metrics=['accuracy'])"
   ]
  },
  {
   "cell_type": "code",
   "execution_count": 7,
   "id": "a5d91815",
   "metadata": {},
   "outputs": [
    {
     "name": "stdout",
     "output_type": "stream",
     "text": [
      "Epoch 1/5\n",
      "15/15 [==============================] - 0s 4ms/step - loss: 0.7265 - accuracy: 0.5451\n",
      "Epoch 2/5\n",
      "15/15 [==============================] - 0s 3ms/step - loss: 0.6322 - accuracy: 0.6352\n",
      "Epoch 3/5\n",
      "15/15 [==============================] - 0s 4ms/step - loss: 0.5540 - accuracy: 0.7187\n",
      "Epoch 4/5\n",
      "15/15 [==============================] - 0s 3ms/step - loss: 0.4904 - accuracy: 0.8022\n",
      "Epoch 5/5\n",
      "15/15 [==============================] - 0s 3ms/step - loss: 0.4397 - accuracy: 0.8703\n"
     ]
    },
    {
     "data": {
      "text/plain": [
       "<keras.src.callbacks.History at 0x1e13b7d3040>"
      ]
     },
     "execution_count": 7,
     "metadata": {},
     "output_type": "execute_result"
    }
   ],
   "source": [
    "model.fit(X_train,y_train,epochs=5)"
   ]
  },
  {
   "cell_type": "code",
   "execution_count": 8,
   "id": "ed04f95e",
   "metadata": {},
   "outputs": [
    {
     "name": "stdout",
     "output_type": "stream",
     "text": [
      "4/4 [==============================] - 0s 4ms/step\n"
     ]
    }
   ],
   "source": [
    "y_pred=model.predict(X_test)"
   ]
  },
  {
   "cell_type": "code",
   "execution_count": 9,
   "id": "8f07810b",
   "metadata": {},
   "outputs": [
    {
     "name": "stdout",
     "output_type": "stream",
     "text": [
      "4/4 [==============================] - 0s 5ms/step - loss: 0.4212 - accuracy: 0.8333\n"
     ]
    }
   ],
   "source": [
    "test_loss,test_accuracy=model.evaluate(X_test,y_test)"
   ]
  },
  {
   "cell_type": "code",
   "execution_count": 10,
   "id": "65cc2358",
   "metadata": {},
   "outputs": [
    {
     "name": "stdout",
     "output_type": "stream",
     "text": [
      "accuracy is 0.8333333134651184\n"
     ]
    }
   ],
   "source": [
    "print(\"accuracy is\",test_accuracy)"
   ]
  },
  {
   "cell_type": "code",
   "execution_count": null,
   "id": "6fc265a5",
   "metadata": {},
   "outputs": [],
   "source": []
  },
  {
   "cell_type": "markdown",
   "id": "04c36d4d",
   "metadata": {},
   "source": [
    "Sequential Model: The Sequential class is used to define a simple linear stack of layers.\n",
    "Dense Layer: This is a fully connected (or dense) layer where each neuron is connected to every input. In this case, there is only one neuron, making it a simple logistic regression.\n",
    "Activation Function: The 'sigmoid' activation function maps the output to a range between 0 and 1, ideal for binary classification problems.\n",
    "Input Shape: The input_shape parameter specifies the number of features in the input data, which is the same as the number of features in the training set (X_train.shape[1]).\n",
    "    \n",
    "Optimizer: The 'adam' optimizer is commonly used in deep learning due to its adaptive learning rate and fast convergence.\n",
    "Loss Function: 'binary_crossentropy' is the standard loss function for binary classification problems. It calculates the cross-entropy loss, which measures the difference between the predicted probabilities and the actual class labels.\n",
    "Metrics: 'accuracy' is used to monitor the proportion of correct predictions.\n",
    "    \n",
    "Training: The fit method trains the model on the given training dataset (X_train and y_train).\n",
    "Epochs: The number of times the entire training dataset is passed through the network during training. Here, the model is trained for 5 epochs.\n",
    "Data: X_train is the input training data, and y_train contains the corresponding binary labels (0 or 1).\n",
    "\n",
    "5. Logistic Regression\n",
    "Logistic regression is a linear model used for binary classification. It computes a weighted sum of the input features and applies the sigmoid function to get a probability between 0 and 1. If the probability is above a certain threshold (usually 0.5), the output is classified as 1; otherwise, it's classified as 0. The core idea is to find the best weights and bias terms that minimize the loss function.\n",
    "\n",
    "6. Evaluating Logistic Regression with TensorFlow\n",
    "After training the model, you can evaluate its performance on a test set to understand how well it generalizes to new data. Here's a general approach to evaluating a logistic regression model:\n",
    "\n",
    "Split the Data: Ensure that you have a separate test set that wasn't used during training.\n",
    "Model Evaluation: Use the model.evaluate() function to calculate the loss and accuracy on the test set.\n",
    "Performance Metrics: Common metrics for binary classification include accuracy, precision, recall, and F1-score. These metrics provide a broader understanding of the model's performance.\n",
    "Confusion Matrix: This matrix helps visualize the number of true positives, true negatives, false positives, and false negatives. It gives insight into the types of errors the model is making.\n",
    "    \n",
    "Conclusion\n",
    "This code snippet demonstrates a simple logistic regression model built with TensorFlow and Keras. It uses a single dense layer with a sigmoid activation function, suitable for binary classification problems. The model is trained with binary cross-entropy loss and evaluated with accuracy as a metric. The key to successful logistic regression is ensuring proper data preprocessing, appropriate training, and thorough evaluation with a variety of metrics to gauge performance.\n",
    "\n",
    "\n",
    "\n",
    "\n",
    "\n"
   ]
  },
  {
   "cell_type": "code",
   "execution_count": null,
   "id": "82b00fd2",
   "metadata": {},
   "outputs": [],
   "source": []
  }
 ],
 "metadata": {
  "kernelspec": {
   "display_name": "Python 3 (ipykernel)",
   "language": "python",
   "name": "python3"
  },
  "language_info": {
   "codemirror_mode": {
    "name": "ipython",
    "version": 3
   },
   "file_extension": ".py",
   "mimetype": "text/x-python",
   "name": "python",
   "nbconvert_exporter": "python",
   "pygments_lexer": "ipython3",
   "version": "3.9.12"
  }
 },
 "nbformat": 4,
 "nbformat_minor": 5
}
