{
 "cells": [
  {
   "cell_type": "code",
   "execution_count": 1,
   "id": "0d4f16f1",
   "metadata": {},
   "outputs": [],
   "source": [
    "import numpy as np\n",
    "import matplotlib.pyplot as plt"
   ]
  },
  {
   "cell_type": "code",
   "execution_count": 2,
   "id": "fb02064e",
   "metadata": {},
   "outputs": [],
   "source": [
    "class Perceptron:\n",
    "    def __init__(self, lr=0.1, n_iter=100):\n",
    "        self.lr = lr # learning rate\n",
    "        self.n_iter = n_iter \n",
    "        self.weights = None \n",
    "        self.bias = None \n",
    "        \n",
    "    def fit(self, X, y):\n",
    "         \n",
    "        self.weights = np.zeros(X.shape[1])\n",
    "        self.bias = 1\n",
    "\n",
    "        \n",
    "        for i in range(self.n_iter):\n",
    "           \n",
    "            for j in range(X.shape[0]):\n",
    "                \n",
    "                pred = self.predict(X[j])\n",
    "             \n",
    "                if pred != y[j]:\n",
    "                    self.weights += self.lr * y[j] * X[j]\n",
    "                    self.bias += self.lr * y[j]\n",
    "\n",
    "    def predict(self, X):\n",
    "       \n",
    "        output = np.dot(X, self.weights) + self.bias\n",
    "        \n",
    "        return np.where(output >= 0, 1, -1)"
   ]
  },
  {
   "cell_type": "code",
   "execution_count": 3,
   "id": "4289210b",
   "metadata": {},
   "outputs": [],
   "source": [
    "X = np.array([[2, 2], [4, 4], [4, 0], [3, 2], [8, 4], [8, 0]])\n",
    "y = np.array([1, 1, -1, 1, -1, -1])\n"
   ]
  },
  {
   "cell_type": "code",
   "execution_count": 4,
   "id": "c9addfeb",
   "metadata": {},
   "outputs": [],
   "source": [
    "model = Perceptron()\n",
    "model.fit(X, y)"
   ]
  },
  {
   "cell_type": "code",
   "execution_count": 5,
   "id": "10540648",
   "metadata": {},
   "outputs": [
    {
     "data": {
      "image/png": "[encoded data removed]",
      "text/plain": [
       "<Figure size 432x288 with 1 Axes>"
      ]
     },
     "metadata": {
      "needs_background": "light"
     },
     "output_type": "display_data"
    }
   ],
   "source": [
    "plt.scatter(X[:, 0], X[:, 1], c=y)\n",
    "plt.xlim(0, 10)\n",
    "plt.ylim(0, 5)\n",
    "x1 = np.linspace(0, 10)\n",
    "x2 = -(model.weights[0]*x1 + model.bias)/model.weights[1]\n",
    "plt.plot(x1, x2, '-r')\n",
    "plt.show()"
   ]
  },
  {
   "cell_type": "markdown",
   "id": "65b8d33f",
   "metadata": {},
   "source": [
    "Learning Rate (lr): Controls how much the weights and bias are adjusted during training. A higher learning rate can lead to faster convergence but might cause instability.\n",
    "Number of Iterations (n_iter): Determines how many times the model will iterate through the training data.\n",
    "Weights and Bias: The perceptron's parameters, initialized later in the fit method.\n",
    "    \n",
    "Initialization: The weights are initialized to zeros, and the bias is set to 1.\n",
    "Training Loop: The outer loop represents the epochs, and the inner loop iterates over each data point.\n",
    "Prediction and Error Correction: The perceptron predicts the output for each data point. If the prediction is incorrect (not matching the target y[j]), the weights and bias are updated to correct the error:\n",
    "The update rule for weights: self.weights += self.lr * y[j] * X[j]\n",
    "The update rule for bias: self.bias += self.lr * y[j]\n",
    "Error Correction Logic: The perceptron adjusts weights based on the direction of the error. If the prediction is less than the actual value, the weights and bias are increased; otherwise, they are decreased.\n",
    "    \n",
    "Linear Combination: The dot product of the input features and the weights, plus the bias.\n",
    "Thresholding: If the result of the linear combination is greater than or equal to zero, the output is 1; otherwise, it's -1.\n",
    "    \n",
    "Data: The X array contains the feature values (2D points), and y represents the labels (1 or -1).\n",
    "Training the Model: The perceptron is trained on the given dataset.\n",
    "    \n",
    "Plotting Data Points: The plt.scatter() function plots the 2D points, coloring them according to their labels.\n",
    "Setting Limits: plt.xlim(0, 10) and plt.ylim(0, 5) define the plot's x- and y-axis limits.\n",
    "Decision Boundary: The line x2 = -(model.weights[0]*x1 + model.bias)/model.weights[1] represents the decision boundary. It separates the classes where the perceptron output transitions from -1 to 1.\n",
    "Visualizing the Boundary: The red line (plt.plot(x1, x2, '-r')) shows the decision boundary, illustrating how the perceptron separates the two classes.\n",
    "    \n",
    "Conclusion\n",
    "This code snippet implements a perceptron algorithm for binary classification. The perceptron is a simple linear classifier that adjusts weights and bias to correct prediction errors. The code trains the perceptron on a small dataset and then visualizes the decision boundary to see how it separates the classes. This example provides a foundational understanding of linear classifiers and the perceptron learning rule, demonstrating its application in a basic binary classification task."
   ]
  },
  {
   "cell_type": "code",
   "execution_count": null,
   "id": "c1365466",
   "metadata": {},
   "outputs": [],
   "source": []
  }
 ],
 "metadata": {
  "kernelspec": {
   "display_name": "Python 3 (ipykernel)",
   "language": "python",
   "name": "python3"
  },
  "language_info": {
   "codemirror_mode": {
    "name": "ipython",
    "version": 3
   },
   "file_extension": ".py",
   "mimetype": "text/x-python",
   "name": "python",
   "nbconvert_exporter": "python",
   "pygments_lexer": "ipython3",
   "version": "3.9.12"
  }
 },
 "nbformat": 4,
 "nbformat_minor": 5
}
