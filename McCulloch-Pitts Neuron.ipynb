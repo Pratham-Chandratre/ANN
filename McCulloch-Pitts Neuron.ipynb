{
 "cells": [
  {
   "cell_type": "code",
   "execution_count": 1,
   "id": "6c60f428",
   "metadata": {},
   "outputs": [],
   "source": [
    "import numpy as np\n",
    "\n",
    "class McCullochPitts:\n",
    "    def __init__(self, input_size):\n",
    "        self.weights = np.zeros(input_size)\n",
    "        self.bias = 0\n",
    "    def predict(self, inputs):\n",
    "        linear_combination = np.dot(self.weights, inputs) + self.bias\n",
    "        return 1 if linear_combination >= 0 else 0"
   ]
  },
  {
   "cell_type": "code",
   "execution_count": 2,
   "id": "897e0a8a",
   "metadata": {},
   "outputs": [],
   "source": [
    "inputs = np.array([[0, 0], [0, 1], [1, 0], [1, 1]])\n",
    "expected_outputs = np.array([0, 0, 1, 0])"
   ]
  },
  {
   "cell_type": "code",
   "execution_count": 3,
   "id": "cb087832",
   "metadata": {},
   "outputs": [],
   "source": [
    "neural_network = McCullochPitts(2)"
   ]
  },
  {
   "cell_type": "code",
   "execution_count": 4,
   "id": "784edc3f",
   "metadata": {},
   "outputs": [
    {
     "name": "stdout",
     "output_type": "stream",
     "text": [
      "Inputs: [0 0]\n",
      "ANDNOT output: False\n",
      "Inputs: [0 1]\n",
      "ANDNOT output: False\n",
      "Inputs: [1 0]\n",
      "ANDNOT output: True\n",
      "Inputs: [1 1]\n",
      "ANDNOT output: False\n"
     ]
    }
   ],
   "source": [
    "learning_rate = 0.1\n",
    "epochs = 10\n",
    "for epoch in range(epochs):\n",
    "    for input, expected_output in zip(inputs, expected_outputs):\n",
    "        prediction = neural_network.predict(input)\n",
    "        error = expected_output - prediction\n",
    "        neural_network.weights += learning_rate * error * input\n",
    "        neural_network.bias += learning_rate * error\n",
    "\n",
    "\n",
    "for input in inputs:\n",
    "    print(f\"Inputs: {input}\")\n",
    "    if neural_network.predict(input) == 1:\n",
    "        print(\"ANDNOT output: True\")\n",
    "    else:\n",
    "         print(\"ANDNOT output: False\")"
   ]
  },
  {
   "cell_type": "markdown",
   "id": "3f385a9a",
   "metadata": {},
   "source": [
    "This code implements a simple binary classification model based on the McCulloch-Pitts neuron, also known as the perceptron model. It demonstrates a basic training loop with a perceptron and applies it to a simple logical operation. Let's break down the key concepts and operations in this code.\n",
    "\n",
    "1. McCulloch-Pitts Neuron\n",
    "The McCulloch-Pitts neuron is an early model of a binary threshold neuron. It takes a set of inputs, applies a weighted sum, and uses a bias term. If the sum is greater than or equal to a threshold (in this case, zero), it outputs 1; otherwise, it outputs 0.\n",
    "Weights and Bias: The weights represent the influence each input has on the output. The bias is a constant term that shifts the linear combination.\n",
    "Predict Method: The predict function computes a linear combination of the input features and checks whether it meets or exceeds the threshold to classify the input into one of two categories.\n",
    "2. Learning Algorithm\n",
    "The learning algorithm used here is similar to the perceptron's learning rule, which updates the weights and bias based on prediction errors.\n",
    "Inputs and Expected Outputs: The provided inputs represent binary combinations (all possible combinations for a 2-bit binary system). The expected_outputs array contains the target outputs for each corresponding input.\n",
    "Learning Rate and Epochs: The learning_rate determines how much the weights and bias should be adjusted with each learning iteration. An epoch represents a complete pass through the training data.\n",
    "Training Loop: For each epoch, the loop iterates over each pair of inputs and expected_outputs. The model's prediction is compared with the expected output, and the error is calculated (the difference between the expected output and the prediction). The weights and bias are updated in proportion to the learning rate and the error:\n",
    "weights += learning_rate * error * input\n",
    "bias += learning_rate * error\n",
    "3. Logical Functionality\n",
    "This code implements an AND-NOT operation, where the output is True only when the first input is 1 and the second is 0 (i.e., (x1 AND NOT x2)).\n",
    "The expected outputs for this operation are [0, 0, 1, 0], corresponding to [[0, 0], [0, 1], [1, 0], [1, 1]].\n",
    "4. Predicting and Displaying Results\n",
    "After training, the code evaluates the trained model by making predictions on the given inputs and checking if the output aligns with the expected AND-NOT operation.\n",
    "If the prediction is 1, it prints \"ANDNOT output: True\". If 0, it prints \"ANDNOT output: False\".\n",
    "\n",
    "Conclusion\n",
    "This code snippet demonstrates a basic implementation of a binary classification model with the McCulloch-Pitts neuron. The learning algorithm used is a simple perceptron learning rule, which adjusts the weights and bias based on the prediction error. This example shows how the perceptron can be trained to model a specific logical operation. Although simple, it serves as a foundational concept for more complex neural networks and binary classifiers."
   ]
  },
  {
   "cell_type": "code",
   "execution_count": null,
   "id": "2cfc5194",
   "metadata": {},
   "outputs": [],
   "source": []
  }
 ],
 "metadata": {
  "kernelspec": {
   "display_name": "Python 3 (ipykernel)",
   "language": "python",
   "name": "python3"
  },
  "language_info": {
   "codemirror_mode": {
    "name": "ipython",
    "version": 3
   },
   "file_extension": ".py",
   "mimetype": "text/x-python",
   "name": "python",
   "nbconvert_exporter": "python",
   "pygments_lexer": "ipython3",
   "version": "3.9.12"
  }
 },
 "nbformat": 4,
 "nbformat_minor": 5
}
