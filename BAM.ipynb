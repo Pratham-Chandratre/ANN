{
 "cells": [
  {
   "cell_type": "code",
   "execution_count": 1,
   "id": "35d0b0d5",
   "metadata": {},
   "outputs": [
    {
     "name": "stdout",
     "output_type": "stream",
     "text": [
      "Retrieved Output: [-1. -1.]\n"
     ]
    }
   ],
   "source": [
    "import numpy as np\n",
    "\n",
    "def train_bam(input_patterns, output_patterns):\n",
    "    input_patterns = np.array(input_patterns)\n",
    "    output_patterns = np.array(output_patterns)\n",
    "    input_size = len(input_patterns[0])\n",
    "    output_size = len(output_patterns[0])\n",
    "    weights = np.zeros((input_size, output_size))\n",
    "\n",
    "    for input_pattern, output_pattern in zip(input_patterns, output_patterns):\n",
    "        weights += np.outer(input_pattern, output_pattern)\n",
    "\n",
    "    return weights\n",
    "\n",
    "def recall_bam(input_pattern, weights):\n",
    "    output_pattern = np.dot(input_pattern, weights)\n",
    "    output_pattern[output_pattern >= 0] = 1\n",
    "    output_pattern[output_pattern < 0] = -1\n",
    "    return output_pattern\n",
    "\n",
    "# Example usage\n",
    "input_patterns = [[1, -1, 1], [-1, 1, -1]]\n",
    "output_patterns = [[1, 1], [-1, -1]]\n",
    "\n",
    "weights = train_bam(input_patterns, output_patterns)\n",
    "\n",
    "input_pattern = [-1, 1, -1]\n",
    "retrieved_output = recall_bam(input_pattern, weights)\n",
    "print(\"Retrieved Output:\", retrieved_output)"
   ]
  },
  {
   "cell_type": "markdown",
   "id": "cdd99c07",
   "metadata": {},
   "source": [
    "1. Bidirectional Associative Memory (BAM)\n",
    "BAM is a type of recurrent neural network developed by Bart Kosko. It's designed to store pairs of patterns (associations) in a weight matrix. These patterns can be recalled bidirectionally, allowing for recall of an output pattern given an input pattern, or vice versa. The BAM structure is similar to the Hopfield network but emphasizes the bidirectional nature of the associations.\n",
    "\n",
    "Input Patterns and Output Patterns: These arrays represent the patterns to be associated. Each pair of input and output patterns forms a bidirectional association.\n",
    "Weight Matrix: The weights matrix represents the associations between input and output patterns. It has a shape corresponding to the size of the input patterns and output patterns.\n",
    "Outer Product: The weight matrix is updated by summing the outer products of input and output patterns. The outer product is computed with np.outer(input_pattern, output_pattern), which creates a matrix where each element (i, j) is the product of the i-th element of the input pattern and the j-th element of the output pattern.\n",
    "Learning Rule: By summing the outer products, the weight matrix encodes the associations between input and output patterns.\n",
    "    \n",
    "Dot Product: To recall an associated pattern, the function computes the dot product between the input pattern and the weight matrix. This operation retrieves a corresponding output pattern.\n",
    "Thresholding: After computing the dot product, the function applies a threshold to determine the final output pattern. Elements with non-negative values are set to 1, while those with negative values are set to -1.\n",
    "Recall Mechanism: This process allows for associative recall, retrieving a pattern based on a stored weight matrix.\n",
    "    \n",
    "Defining Patterns: The input_patterns and output_patterns arrays define the patterns to be associated. Each input pattern is associated with a corresponding output pattern.\n",
    "Training the BAM: The train_bam function creates the weight matrix based on the provided patterns.\n",
    "Recalling from BAM: The recall_bam function takes an input pattern and retrieves the associated output pattern from the weight matrix.\n",
    "Output: The retrieved output pattern is printed to demonstrate the associative recall process.\n",
    "\n",
    "Conclusion\n",
    "This code snippet implements a basic Bidirectional Associative Memory (BAM) network. It demonstrates how to train a BAM by creating a weight matrix through the summation of outer products of input and output patterns. The recall function uses the weight matrix to retrieve associated patterns. BAM allows for bidirectional recall, enabling pattern association and retrieval in both directions, making it useful for associative learning and pattern recognition tasks."
   ]
  },
  {
   "cell_type": "code",
   "execution_count": null,
   "id": "07dec8a0",
   "metadata": {},
   "outputs": [],
   "source": []
  }
 ],
 "metadata": {
  "kernelspec": {
   "display_name": "Python 3 (ipykernel)",
   "language": "python",
   "name": "python3"
  },
  "language_info": {
   "codemirror_mode": {
    "name": "ipython",
    "version": 3
   },
   "file_extension": ".py",
   "mimetype": "text/x-python",
   "name": "python",
   "nbconvert_exporter": "python",
   "pygments_lexer": "ipython3",
   "version": "3.9.12"
  }
 },
 "nbformat": 4,
 "nbformat_minor": 5
}
