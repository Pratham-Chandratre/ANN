{
 "cells": [
  {
   "cell_type": "code",
   "execution_count": 1,
   "id": "be584e66",
   "metadata": {},
   "outputs": [
    {
     "name": "stdout",
     "output_type": "stream",
     "text": [
      "Accuracy of perceptron on test set: 0.33\n",
      "Predictions for numbers 0-9:\n",
      "Number 0: Even\n",
      "Number 1: Even\n",
      "Number 2: Even\n",
      "Number 3: Even\n",
      "Number 4: Even\n",
      "Number 5: Even\n",
      "Number 6: Even\n",
      "Number 7: Even\n",
      "Number 8: Even\n",
      "Number 9: Even\n"
     ]
    }
   ],
   "source": [
    "import numpy as np\n",
    "from sklearn.linear_model import Perceptron\n",
    "from sklearn.model_selection import train_test_split\n",
    "from sklearn.metrics import accuracy_score\n",
    "\n",
    "# Define numbers 0-9 in ASCII form\n",
    "numbers = np.array([ord(str(i)) for i in range(10)])\n",
    "\n",
    "# Labels for even (0) and odd (1)\n",
    "labels = np.array([0, 1, 0, 1, 0, 1, 0, 1, 0, 1])  # 0 for even, 1 for odd\n",
    "\n",
    "# Split the data into training and testing sets\n",
    "X_train, X_test, y_train, y_test = train_test_split(numbers.reshape(-1, 1), labels, test_size=0.3, random_state=42)\n",
    "\n",
    "# Create and train a simple perceptron model\n",
    "perceptron = Perceptron()\n",
    "perceptron.fit(X_train, y_train)\n",
    "\n",
    "# Predict and evaluate accuracy\n",
    "y_pred = perceptron.predict(X_test)\n",
    "accuracy = accuracy_score(y_test, y_pred)\n",
    "\n",
    "print(f\"Accuracy of perceptron on test set: {accuracy:.2f}\")\n",
    "\n",
    "# Demonstrate some predictions\n",
    "test_numbers = np.array([ord(str(i)) for i in range(10)]).reshape(-1, 1)\n",
    "predictions = perceptron.predict(test_numbers)\n",
    "\n",
    "print(\"Predictions for numbers 0-9:\")\n",
    "for num, pred in zip(range(10), predictions):\n",
    "    type_str = \"Even\" if pred == 0 else \"Odd\"\n",
    "    print(f\"Number {num}: {type_str}\")\n"
   ]
  },
  {
   "cell_type": "markdown",
   "id": "8ead7c3b",
   "metadata": {},
   "source": [
    "ASCII (American Standard Code for Information Interchange): A character encoding standard that assigns numeric values to characters. For example, the ASCII value for '0' is 48, and for '9' is 57.\n",
    "Number Array: Here, the ASCII values for numbers 0 to 9 are created using the ord() function\n",
    "    \n",
    "Labels: This array defines whether a number is even or odd, with 0 representing even and 1 representing odd.\n",
    "The pattern [0, 1, 0, 1, 0, 1, 0, 1, 0, 1] corresponds to even and odd numbers from 0 to 9.\n",
    "\n",
    "Training and Testing Split: The train_test_split() function from scikit-learn splits the data into a training set and a testing set. The training set is used to train the model, while the testing set is used to evaluate its performance.\n",
    "Reshaping Data: The reshape(-1, 1) ensures the data is in the correct shape for model training, where each sample has one feature (the ASCII value of a number).\n",
    "Test Size and Random State: test_size=0.3 specifies that 30% of the data is for testing, and random_state=42 ensures consistent results by fixing the random seed.\n",
    "\n",
    "Perceptron: A linear binary classifier that uses a simple algorithm to adjust weights and biases based on prediction errors. It learns by adjusting weights to minimize classification errors.\n",
    "Training the Perceptron: The fit() method trains the perceptron on the training set (X_train, y_train). It adjusts weights to classify inputs correctly according to their labels.\n",
    "\n",
    "Prediction: The predict() method uses the trained perceptron to predict outputs for the test set.\n",
    "Accuracy Score: The accuracy_score() function calculates the accuracy of the model, which is the proportion of correct predictions. This provides a measure of the model's performance.\n",
    "\n",
    "Accuracy: The code prints the accuracy of the perceptron on the test set to assess its performance.\n",
    "Predicting for 0-9: The test_numbers array contains the ASCII values for numbers 0 to 9, used to test the perceptron.\n",
    "Displaying Predictions: The loop prints the predictions for numbers 0 to 9, indicating whether each is even or odd based on the perceptron's output.\n",
    "    \n",
    "    \n",
    "Conclusion\n",
    "This code snippet illustrates how a simple perceptron can classify numbers as even or odd using their ASCII values. It demonstrates data splitting, training, prediction, and evaluation with accuracy as the performance metric. Although simple, this code provides a foundational understanding of linear classifiers and their application in basic classification tasks."
   ]
  },
  {
   "cell_type": "code",
   "execution_count": null,
   "id": "1b81085f",
   "metadata": {},
   "outputs": [],
   "source": []
  }
 ],
 "metadata": {
  "kernelspec": {
   "display_name": "Python 3 (ipykernel)",
   "language": "python",
   "name": "python3"
  },
  "language_info": {
   "codemirror_mode": {
    "name": "ipython",
    "version": 3
   },
   "file_extension": ".py",
   "mimetype": "text/x-python",
   "name": "python",
   "nbconvert_exporter": "python",
   "pygments_lexer": "ipython3",
   "version": "3.9.12"
  }
 },
 "nbformat": 4,
 "nbformat_minor": 5
}
