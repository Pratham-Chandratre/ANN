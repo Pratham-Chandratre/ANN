{
 "cells": [
  {
   "cell_type": "code",
   "execution_count": 1,
   "id": "54967f43",
   "metadata": {},
   "outputs": [
    {
     "name": "stdout",
     "output_type": "stream",
     "text": [
      "Input vector: [-1 -1  1 -1]\n",
      "Output vector: [-1 -1  1 -1]\n"
     ]
    },
    {
     "data": {
      "text/plain": [
       "array([[ 0,  0,  0, -4],\n",
       "       [ 0,  0, -4,  0],\n",
       "       [ 0, -4,  0,  0],\n",
       "       [-4,  0,  0,  0]])"
      ]
     },
     "execution_count": 1,
     "metadata": {},
     "output_type": "execute_result"
    }
   ],
   "source": [
    "import numpy as np\n",
    "\n",
    "\n",
    "v1 = np.array([1, -1, 1, -1])\n",
    "v2 = np.array([-1, 1, -1, 1])\n",
    "v3 = np.array([1, 1, -1, -1])\n",
    "v4 = np.array([-1, -1, 1, 1])\n",
    "\n",
    "\n",
    "w = np.outer(v1, v1) + np.outer(v2, v2) + np.outer(v3, v3) + np.outer(v4, v4) \n",
    "\n",
    "\n",
    "np.fill_diagonal(w, 0)\n",
    "\n",
    "\n",
    "def activation(x):\n",
    "    return np.where(x >= 0, 1, -1)\n",
    "\n",
    "\n",
    "def hopfield_network(input_vector, weight_matrix, activation_function, iterations):\n",
    "    \n",
    "    state = input_vector\n",
    "    \n",
    "    for i in range(iterations):\n",
    "        \n",
    "        net_input = np.dot(weight_matrix, state)\n",
    "        \n",
    "        new_state = activation_function(net_input)\n",
    "        \n",
    "        if np.array_equal(new_state, state):\n",
    "            \n",
    "            return new_state\n",
    "        \n",
    "        state = new_state\n",
    "    \n",
    "    return state\n",
    "\n",
    "\n",
    "input_vector = np.array([-1, -1, 1, -1])\n",
    "output_vector = hopfield_network(input_vector, w, activation, 10)\n",
    "print(\"Input vector:\", input_vector)\n",
    "print(\"Output vector:\", output_vector)\n",
    "w"
   ]
  },
  {
   "cell_type": "markdown",
   "id": "dceddc82",
   "metadata": {},
   "source": [
    "Hopfield networks can store patterns and recall them based on noisy or incomplete inputs. Let's break down the theory behind this code and explain its various components.\n",
    "\n",
    "These arrays represent the patterns to be stored in the Hopfield network.\n",
    "Hopfield networks use binary states, typically represented as -1 or 1. The patterns in this code consist of 4-dimensional vectors with alternating positive and negative values.\n",
    "\n",
    "The weight matrix w is calculated by summing the outer products of each pattern with itself.\n",
    "Outer Product: For two vectors a and b, the outer product np.outer(a, b) produces a matrix where each element (i, j) is the product a[i] * b[j].\n",
    "Hopfield Weight Matrix: To store patterns in a Hopfield network, the weights are derived from these outer products. The summation of outer products is a key aspect of training a Hopfield network.\n",
    "Zeroing Diagonal: The diagonal elements of the weight matrix are set to zero (np.fill_diagonal(w, 0)) to avoid self-connections.\n",
    "    \n",
    "This function defines the activation rule for the Hopfield network. It returns 1 for non-negative values and -1 for negative values.\n",
    "Threshold Activation: The Hopfield network uses a simple thresholding rule to update neuron states.\n",
    "    \n",
    "Input Parameters: The function takes an input vector, a weight matrix, an activation function, and a number of iterations.\n",
    "Initial State: The input vector represents the initial state of the network.\n",
    "Updating State: In each iteration, the net input is calculated by multiplying the weight matrix by the current state (np.dot(weight_matrix, state)).\n",
    "Activation and New State: The activation function is applied to the net input to get the new state.\n",
    "Convergence Check: If the new state is identical to the current state (np.array_equal(new_state, state)), the network has converged, and the function returns the final state.\n",
    "State Update: If not converged, the state is updated to the new state, and the process continues for the specified number of iterations.\n",
    "    \n",
    "The Hopfield network is tested with a given input vector (input_vector).\n",
    "Output Vector: The final state of the Hopfield network after processing the input. If the network converges, this output should be one of the stored patterns or close to it.\n",
    "Associative Memory: The goal of a Hopfield network is to associate an input with a stored pattern. If the input is close to a stored pattern, the network should converge to that pattern.\n",
    "    \n",
    "Conclusion\n",
    "The Hopfield network is a simple model of associative memory that can store and recall patterns based on their proximity to input data. This code snippet demonstrates how to create a Hopfield network, define a weight matrix, and use an activation function to update neuron states. The convergence property of Hopfield networks allows them to recover stored patterns from noisy or incomplete inputs. This makes them useful in applications like pattern recognition and error correction."
   ]
  },
  {
   "cell_type": "code",
   "execution_count": null,
   "id": "fa38a85c",
   "metadata": {},
   "outputs": [],
   "source": []
  }
 ],
 "metadata": {
  "kernelspec": {
   "display_name": "Python 3 (ipykernel)",
   "language": "python",
   "name": "python3"
  },
  "language_info": {
   "codemirror_mode": {
    "name": "ipython",
    "version": 3
   },
   "file_extension": ".py",
   "mimetype": "text/x-python",
   "name": "python",
   "nbconvert_exporter": "python",
   "pygments_lexer": "ipython3",
   "version": "3.9.12"
  }
 },
 "nbformat": 4,
 "nbformat_minor": 5
}
